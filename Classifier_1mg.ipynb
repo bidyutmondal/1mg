{
 "cells": [
  {
   "cell_type": "code",
   "execution_count": 1,
   "metadata": {
    "scrolled": true
   },
   "outputs": [],
   "source": [
    "#importing the libraries\n",
    "import numpy as np\n",
    "import pandas as pd\n",
    "import matplotlib.pyplot as plt\n",
    "%matplotlib inline"
   ]
  },
  {
   "cell_type": "code",
   "execution_count": 2,
   "metadata": {},
   "outputs": [],
   "source": [
    "#loading the datasets as pandas dataframe\n",
    "train_data = pd.read_csv('training_data.csv')\n",
    "test_data = pd.read_csv('test_data.csv')"
   ]
  },
  {
   "cell_type": "code",
   "execution_count": 3,
   "metadata": {
    "scrolled": false
   },
   "outputs": [
    {
     "data": {
      "text/html": [
       "<div>\n",
       "<style scoped>\n",
       "    .dataframe tbody tr th:only-of-type {\n",
       "        vertical-align: middle;\n",
       "    }\n",
       "\n",
       "    .dataframe tbody tr th {\n",
       "        vertical-align: top;\n",
       "    }\n",
       "\n",
       "    .dataframe thead th {\n",
       "        text-align: right;\n",
       "    }\n",
       "</style>\n",
       "<table border=\"1\" class=\"dataframe\">\n",
       "  <thead>\n",
       "    <tr style=\"text-align: right;\">\n",
       "      <th></th>\n",
       "      <th>patient_id</th>\n",
       "      <th>standard_lab_parameter_name</th>\n",
       "      <th>parameter_value</th>\n",
       "      <th>unit</th>\n",
       "      <th>created_at</th>\n",
       "      <th>reference_high</th>\n",
       "      <th>reference_low</th>\n",
       "      <th>age_group</th>\n",
       "      <th>gender</th>\n",
       "    </tr>\n",
       "  </thead>\n",
       "  <tbody>\n",
       "    <tr>\n",
       "      <th>0</th>\n",
       "      <td>0</td>\n",
       "      <td>WBC</td>\n",
       "      <td>579.00</td>\n",
       "      <td>10^3/μl</td>\n",
       "      <td>2019-07-02 01:19:03.581</td>\n",
       "      <td>10.0</td>\n",
       "      <td>4.0</td>\n",
       "      <td>old</td>\n",
       "      <td>male</td>\n",
       "    </tr>\n",
       "    <tr>\n",
       "      <th>1</th>\n",
       "      <td>1</td>\n",
       "      <td>T4</td>\n",
       "      <td>5.00</td>\n",
       "      <td>μg/dl</td>\n",
       "      <td>2019-07-02 01:19:03.581</td>\n",
       "      <td>12.0</td>\n",
       "      <td>4.5</td>\n",
       "      <td>old</td>\n",
       "      <td>male</td>\n",
       "    </tr>\n",
       "    <tr>\n",
       "      <th>2</th>\n",
       "      <td>2</td>\n",
       "      <td>WBC</td>\n",
       "      <td>6.81</td>\n",
       "      <td>10^3/μl</td>\n",
       "      <td>2019-05-06 14:07:51.925</td>\n",
       "      <td>10.0</td>\n",
       "      <td>4.0</td>\n",
       "      <td>adult</td>\n",
       "      <td>male</td>\n",
       "    </tr>\n",
       "    <tr>\n",
       "      <th>3</th>\n",
       "      <td>3</td>\n",
       "      <td>T4</td>\n",
       "      <td>5.70</td>\n",
       "      <td>μg/dl</td>\n",
       "      <td>2019-05-06 14:07:51.925</td>\n",
       "      <td>12.0</td>\n",
       "      <td>4.5</td>\n",
       "      <td>adult</td>\n",
       "      <td>male</td>\n",
       "    </tr>\n",
       "    <tr>\n",
       "      <th>4</th>\n",
       "      <td>4</td>\n",
       "      <td>WBC</td>\n",
       "      <td>4.64</td>\n",
       "      <td>10^3/μl</td>\n",
       "      <td>2019-07-21 13:41:00.528523+00:00</td>\n",
       "      <td>10.0</td>\n",
       "      <td>4.0</td>\n",
       "      <td>adult</td>\n",
       "      <td>male</td>\n",
       "    </tr>\n",
       "  </tbody>\n",
       "</table>\n",
       "</div>"
      ],
      "text/plain": [
       "   patient_id standard_lab_parameter_name  parameter_value     unit  \\\n",
       "0           0                         WBC           579.00  10^3/μl   \n",
       "1           1                          T4             5.00    μg/dl   \n",
       "2           2                         WBC             6.81  10^3/μl   \n",
       "3           3                          T4             5.70    μg/dl   \n",
       "4           4                         WBC             4.64  10^3/μl   \n",
       "\n",
       "                         created_at  reference_high  reference_low age_group  \\\n",
       "0           2019-07-02 01:19:03.581            10.0            4.0       old   \n",
       "1           2019-07-02 01:19:03.581            12.0            4.5       old   \n",
       "2           2019-05-06 14:07:51.925            10.0            4.0     adult   \n",
       "3           2019-05-06 14:07:51.925            12.0            4.5     adult   \n",
       "4  2019-07-21 13:41:00.528523+00:00            10.0            4.0     adult   \n",
       "\n",
       "  gender  \n",
       "0   male  \n",
       "1   male  \n",
       "2   male  \n",
       "3   male  \n",
       "4   male  "
      ]
     },
     "execution_count": 3,
     "metadata": {},
     "output_type": "execute_result"
    }
   ],
   "source": [
    "train_data.head()"
   ]
  },
  {
   "cell_type": "code",
   "execution_count": 4,
   "metadata": {},
   "outputs": [
    {
     "data": {
      "text/html": [
       "<div>\n",
       "<style scoped>\n",
       "    .dataframe tbody tr th:only-of-type {\n",
       "        vertical-align: middle;\n",
       "    }\n",
       "\n",
       "    .dataframe tbody tr th {\n",
       "        vertical-align: top;\n",
       "    }\n",
       "\n",
       "    .dataframe thead th {\n",
       "        text-align: right;\n",
       "    }\n",
       "</style>\n",
       "<table border=\"1\" class=\"dataframe\">\n",
       "  <thead>\n",
       "    <tr style=\"text-align: right;\">\n",
       "      <th></th>\n",
       "      <th>Unnamed: 0</th>\n",
       "      <th>patient_id</th>\n",
       "      <th>standard_lab_parameter_name</th>\n",
       "      <th>parameter_value</th>\n",
       "      <th>unit</th>\n",
       "      <th>created_at</th>\n",
       "      <th>reference_high</th>\n",
       "      <th>reference_low</th>\n",
       "      <th>age_group</th>\n",
       "    </tr>\n",
       "  </thead>\n",
       "  <tbody>\n",
       "    <tr>\n",
       "      <th>0</th>\n",
       "      <td>0</td>\n",
       "      <td>0</td>\n",
       "      <td>WBC</td>\n",
       "      <td>8.10</td>\n",
       "      <td>10^3/μl</td>\n",
       "      <td>2020-01-05 09:06:51.396116+00:00</td>\n",
       "      <td>10.0</td>\n",
       "      <td>4.0</td>\n",
       "      <td>adult</td>\n",
       "    </tr>\n",
       "    <tr>\n",
       "      <th>1</th>\n",
       "      <td>1</td>\n",
       "      <td>1</td>\n",
       "      <td>T4</td>\n",
       "      <td>13.00</td>\n",
       "      <td>μg/dl</td>\n",
       "      <td>2020-11-03 09:16:15.785961+00:00</td>\n",
       "      <td>12.0</td>\n",
       "      <td>4.5</td>\n",
       "      <td>adult</td>\n",
       "    </tr>\n",
       "    <tr>\n",
       "      <th>2</th>\n",
       "      <td>2</td>\n",
       "      <td>2</td>\n",
       "      <td>T4</td>\n",
       "      <td>7.10</td>\n",
       "      <td>μg/dl</td>\n",
       "      <td>2020-10-31 02:25:49.721427+00:00</td>\n",
       "      <td>12.0</td>\n",
       "      <td>4.5</td>\n",
       "      <td>adult</td>\n",
       "    </tr>\n",
       "    <tr>\n",
       "      <th>3</th>\n",
       "      <td>3</td>\n",
       "      <td>3</td>\n",
       "      <td>WBC</td>\n",
       "      <td>5.62</td>\n",
       "      <td>10^3/μl</td>\n",
       "      <td>2020-10-31 02:25:49.721427+00:00</td>\n",
       "      <td>10.0</td>\n",
       "      <td>4.0</td>\n",
       "      <td>adult</td>\n",
       "    </tr>\n",
       "    <tr>\n",
       "      <th>4</th>\n",
       "      <td>4</td>\n",
       "      <td>4</td>\n",
       "      <td>WBC</td>\n",
       "      <td>9350.00</td>\n",
       "      <td>/cmm</td>\n",
       "      <td>2020-11-02 12:57:39.535672+00:00</td>\n",
       "      <td>10000.0</td>\n",
       "      <td>4000.0</td>\n",
       "      <td>old</td>\n",
       "    </tr>\n",
       "  </tbody>\n",
       "</table>\n",
       "</div>"
      ],
      "text/plain": [
       "   Unnamed: 0  patient_id standard_lab_parameter_name  parameter_value  \\\n",
       "0           0           0                         WBC             8.10   \n",
       "1           1           1                          T4            13.00   \n",
       "2           2           2                          T4             7.10   \n",
       "3           3           3                         WBC             5.62   \n",
       "4           4           4                         WBC          9350.00   \n",
       "\n",
       "      unit                        created_at  reference_high  reference_low  \\\n",
       "0  10^3/μl  2020-01-05 09:06:51.396116+00:00            10.0            4.0   \n",
       "1    μg/dl  2020-11-03 09:16:15.785961+00:00            12.0            4.5   \n",
       "2    μg/dl  2020-10-31 02:25:49.721427+00:00            12.0            4.5   \n",
       "3  10^3/μl  2020-10-31 02:25:49.721427+00:00            10.0            4.0   \n",
       "4     /cmm  2020-11-02 12:57:39.535672+00:00         10000.0         4000.0   \n",
       "\n",
       "  age_group  \n",
       "0     adult  \n",
       "1     adult  \n",
       "2     adult  \n",
       "3     adult  \n",
       "4       old  "
      ]
     },
     "execution_count": 4,
     "metadata": {},
     "output_type": "execute_result"
    }
   ],
   "source": [
    "test_data.head()"
   ]
  },
  {
   "cell_type": "code",
   "execution_count": 5,
   "metadata": {
    "scrolled": true
   },
   "outputs": [
    {
     "name": "stdout",
     "output_type": "stream",
     "text": [
      "<class 'pandas.core.frame.DataFrame'>\n",
      "RangeIndex: 10000 entries, 0 to 9999\n",
      "Data columns (total 9 columns):\n",
      " #   Column                       Non-Null Count  Dtype  \n",
      "---  ------                       --------------  -----  \n",
      " 0   patient_id                   10000 non-null  int64  \n",
      " 1   standard_lab_parameter_name  10000 non-null  object \n",
      " 2   parameter_value              10000 non-null  float64\n",
      " 3   unit                         10000 non-null  object \n",
      " 4   created_at                   10000 non-null  object \n",
      " 5   reference_high               10000 non-null  float64\n",
      " 6   reference_low                10000 non-null  float64\n",
      " 7   age_group                    10000 non-null  object \n",
      " 8   gender                       10000 non-null  object \n",
      "dtypes: float64(3), int64(1), object(5)\n",
      "memory usage: 703.2+ KB\n"
     ]
    }
   ],
   "source": [
    "train_data.info()"
   ]
  },
  {
   "cell_type": "code",
   "execution_count": 6,
   "metadata": {},
   "outputs": [
    {
     "name": "stdout",
     "output_type": "stream",
     "text": [
      "<class 'pandas.core.frame.DataFrame'>\n",
      "RangeIndex: 10000 entries, 0 to 9999\n",
      "Data columns (total 9 columns):\n",
      " #   Column                       Non-Null Count  Dtype  \n",
      "---  ------                       --------------  -----  \n",
      " 0   Unnamed: 0                   10000 non-null  int64  \n",
      " 1   patient_id                   10000 non-null  int64  \n",
      " 2   standard_lab_parameter_name  10000 non-null  object \n",
      " 3   parameter_value              10000 non-null  float64\n",
      " 4   unit                         10000 non-null  object \n",
      " 5   created_at                   10000 non-null  object \n",
      " 6   reference_high               10000 non-null  float64\n",
      " 7   reference_low                10000 non-null  float64\n",
      " 8   age_group                    10000 non-null  object \n",
      "dtypes: float64(3), int64(2), object(4)\n",
      "memory usage: 703.2+ KB\n"
     ]
    }
   ],
   "source": [
    "test_data.info()"
   ]
  },
  {
   "cell_type": "code",
   "execution_count": 7,
   "metadata": {
    "scrolled": false
   },
   "outputs": [
    {
     "data": {
      "text/html": [
       "<div>\n",
       "<style scoped>\n",
       "    .dataframe tbody tr th:only-of-type {\n",
       "        vertical-align: middle;\n",
       "    }\n",
       "\n",
       "    .dataframe tbody tr th {\n",
       "        vertical-align: top;\n",
       "    }\n",
       "\n",
       "    .dataframe thead th {\n",
       "        text-align: right;\n",
       "    }\n",
       "</style>\n",
       "<table border=\"1\" class=\"dataframe\">\n",
       "  <thead>\n",
       "    <tr style=\"text-align: right;\">\n",
       "      <th></th>\n",
       "      <th>patient_id</th>\n",
       "      <th>parameter_value</th>\n",
       "      <th>reference_high</th>\n",
       "      <th>reference_low</th>\n",
       "    </tr>\n",
       "  </thead>\n",
       "  <tbody>\n",
       "    <tr>\n",
       "      <th>count</th>\n",
       "      <td>10000.00000</td>\n",
       "      <td>10000.000000</td>\n",
       "      <td>10000.000000</td>\n",
       "      <td>10000.000000</td>\n",
       "    </tr>\n",
       "    <tr>\n",
       "      <th>mean</th>\n",
       "      <td>4999.50000</td>\n",
       "      <td>356.897325</td>\n",
       "      <td>372.848728</td>\n",
       "      <td>162.951938</td>\n",
       "    </tr>\n",
       "    <tr>\n",
       "      <th>std</th>\n",
       "      <td>2886.89568</td>\n",
       "      <td>9289.389443</td>\n",
       "      <td>1800.575300</td>\n",
       "      <td>712.506331</td>\n",
       "    </tr>\n",
       "    <tr>\n",
       "      <th>min</th>\n",
       "      <td>0.00000</td>\n",
       "      <td>-71.000000</td>\n",
       "      <td>1.120000</td>\n",
       "      <td>0.000000</td>\n",
       "    </tr>\n",
       "    <tr>\n",
       "      <th>25%</th>\n",
       "      <td>2499.75000</td>\n",
       "      <td>6.700000</td>\n",
       "      <td>10.000000</td>\n",
       "      <td>4.000000</td>\n",
       "    </tr>\n",
       "    <tr>\n",
       "      <th>50%</th>\n",
       "      <td>4999.50000</td>\n",
       "      <td>8.830000</td>\n",
       "      <td>12.000000</td>\n",
       "      <td>4.500000</td>\n",
       "    </tr>\n",
       "    <tr>\n",
       "      <th>75%</th>\n",
       "      <td>7499.25000</td>\n",
       "      <td>101.000000</td>\n",
       "      <td>107.000000</td>\n",
       "      <td>98.000000</td>\n",
       "    </tr>\n",
       "    <tr>\n",
       "      <th>max</th>\n",
       "      <td>9999.00000</td>\n",
       "      <td>920000.000000</td>\n",
       "      <td>15000.000000</td>\n",
       "      <td>5000.000000</td>\n",
       "    </tr>\n",
       "  </tbody>\n",
       "</table>\n",
       "</div>"
      ],
      "text/plain": [
       "        patient_id  parameter_value  reference_high  reference_low\n",
       "count  10000.00000     10000.000000    10000.000000   10000.000000\n",
       "mean    4999.50000       356.897325      372.848728     162.951938\n",
       "std     2886.89568      9289.389443     1800.575300     712.506331\n",
       "min        0.00000       -71.000000        1.120000       0.000000\n",
       "25%     2499.75000         6.700000       10.000000       4.000000\n",
       "50%     4999.50000         8.830000       12.000000       4.500000\n",
       "75%     7499.25000       101.000000      107.000000      98.000000\n",
       "max     9999.00000    920000.000000    15000.000000    5000.000000"
      ]
     },
     "execution_count": 7,
     "metadata": {},
     "output_type": "execute_result"
    }
   ],
   "source": [
    "train_data.describe()"
   ]
  },
  {
   "cell_type": "code",
   "execution_count": 8,
   "metadata": {},
   "outputs": [
    {
     "data": {
      "text/html": [
       "<div>\n",
       "<style scoped>\n",
       "    .dataframe tbody tr th:only-of-type {\n",
       "        vertical-align: middle;\n",
       "    }\n",
       "\n",
       "    .dataframe tbody tr th {\n",
       "        vertical-align: top;\n",
       "    }\n",
       "\n",
       "    .dataframe thead th {\n",
       "        text-align: right;\n",
       "    }\n",
       "</style>\n",
       "<table border=\"1\" class=\"dataframe\">\n",
       "  <thead>\n",
       "    <tr style=\"text-align: right;\">\n",
       "      <th></th>\n",
       "      <th>Unnamed: 0</th>\n",
       "      <th>patient_id</th>\n",
       "      <th>parameter_value</th>\n",
       "      <th>reference_high</th>\n",
       "      <th>reference_low</th>\n",
       "    </tr>\n",
       "  </thead>\n",
       "  <tbody>\n",
       "    <tr>\n",
       "      <th>count</th>\n",
       "      <td>10000.00000</td>\n",
       "      <td>10000.00000</td>\n",
       "      <td>10000.000000</td>\n",
       "      <td>10000.000000</td>\n",
       "      <td>10000.000000</td>\n",
       "    </tr>\n",
       "    <tr>\n",
       "      <th>mean</th>\n",
       "      <td>4999.50000</td>\n",
       "      <td>4999.50000</td>\n",
       "      <td>198.373268</td>\n",
       "      <td>250.165145</td>\n",
       "      <td>112.542141</td>\n",
       "    </tr>\n",
       "    <tr>\n",
       "      <th>std</th>\n",
       "      <td>2886.89568</td>\n",
       "      <td>2886.89568</td>\n",
       "      <td>1382.265136</td>\n",
       "      <td>1429.726809</td>\n",
       "      <td>562.232336</td>\n",
       "    </tr>\n",
       "    <tr>\n",
       "      <th>min</th>\n",
       "      <td>0.00000</td>\n",
       "      <td>0.00000</td>\n",
       "      <td>0.050000</td>\n",
       "      <td>1.120000</td>\n",
       "      <td>0.000000</td>\n",
       "    </tr>\n",
       "    <tr>\n",
       "      <th>25%</th>\n",
       "      <td>2499.75000</td>\n",
       "      <td>2499.75000</td>\n",
       "      <td>7.100000</td>\n",
       "      <td>10.000000</td>\n",
       "      <td>4.000000</td>\n",
       "    </tr>\n",
       "    <tr>\n",
       "      <th>50%</th>\n",
       "      <td>4999.50000</td>\n",
       "      <td>4999.50000</td>\n",
       "      <td>9.575000</td>\n",
       "      <td>12.000000</td>\n",
       "      <td>4.500000</td>\n",
       "    </tr>\n",
       "    <tr>\n",
       "      <th>75%</th>\n",
       "      <td>7499.25000</td>\n",
       "      <td>7499.25000</td>\n",
       "      <td>100.000000</td>\n",
       "      <td>107.000000</td>\n",
       "      <td>98.000000</td>\n",
       "    </tr>\n",
       "    <tr>\n",
       "      <th>max</th>\n",
       "      <td>9999.00000</td>\n",
       "      <td>9999.00000</td>\n",
       "      <td>40250.000000</td>\n",
       "      <td>11000.000000</td>\n",
       "      <td>4300.000000</td>\n",
       "    </tr>\n",
       "  </tbody>\n",
       "</table>\n",
       "</div>"
      ],
      "text/plain": [
       "        Unnamed: 0   patient_id  parameter_value  reference_high  \\\n",
       "count  10000.00000  10000.00000     10000.000000    10000.000000   \n",
       "mean    4999.50000   4999.50000       198.373268      250.165145   \n",
       "std     2886.89568   2886.89568      1382.265136     1429.726809   \n",
       "min        0.00000      0.00000         0.050000        1.120000   \n",
       "25%     2499.75000   2499.75000         7.100000       10.000000   \n",
       "50%     4999.50000   4999.50000         9.575000       12.000000   \n",
       "75%     7499.25000   7499.25000       100.000000      107.000000   \n",
       "max     9999.00000   9999.00000     40250.000000    11000.000000   \n",
       "\n",
       "       reference_low  \n",
       "count   10000.000000  \n",
       "mean      112.542141  \n",
       "std       562.232336  \n",
       "min         0.000000  \n",
       "25%         4.000000  \n",
       "50%         4.500000  \n",
       "75%        98.000000  \n",
       "max      4300.000000  "
      ]
     },
     "execution_count": 8,
     "metadata": {},
     "output_type": "execute_result"
    }
   ],
   "source": [
    "test_data.describe()"
   ]
  },
  {
   "cell_type": "code",
   "execution_count": 9,
   "metadata": {},
   "outputs": [
    {
     "data": {
      "text/plain": [
       "array(['WBC', 'T4', 'Sodium', 'Chloride', 'SGPT'], dtype=object)"
      ]
     },
     "execution_count": 9,
     "metadata": {},
     "output_type": "execute_result"
    }
   ],
   "source": [
    "train_data['standard_lab_parameter_name'].unique()"
   ]
  },
  {
   "cell_type": "code",
   "execution_count": 10,
   "metadata": {},
   "outputs": [
    {
     "data": {
      "text/plain": [
       "array(['WBC', 'T4', 'Sodium', 'Chloride', 'SGPT'], dtype=object)"
      ]
     },
     "execution_count": 10,
     "metadata": {},
     "output_type": "execute_result"
    }
   ],
   "source": [
    "test_data['standard_lab_parameter_name'].unique()"
   ]
  },
  {
   "cell_type": "code",
   "execution_count": 11,
   "metadata": {
    "scrolled": true
   },
   "outputs": [
    {
     "data": {
      "text/plain": [
       "array(['10^3/μl', 'μg/dl', 'mmol/l', 'cells/μl', 'u/l', 'ng/dl',\n",
       "       '10^3/μi', 'ug/dl', 'thou/mm3', 'meq/l', 'cells/cumm', 'thou/μl',\n",
       "       'µg/dl', '&micro;g/dl', '10^3/&micro;i', 'x 10³ / µl', 'cells/cum',\n",
       "       '10^3/ul', 'cells/cu.mm', 'iu/l', 'μiu/ml', '/cmm', '/cumm',\n",
       "       'pg/ml', 'iu', 'cells/hpf', '103/μl', 'g/l', 'cells', 'nmol/l'],\n",
       "      dtype=object)"
      ]
     },
     "execution_count": 11,
     "metadata": {},
     "output_type": "execute_result"
    }
   ],
   "source": [
    "train_data['unit'].unique()"
   ]
  },
  {
   "cell_type": "code",
   "execution_count": 12,
   "metadata": {},
   "outputs": [
    {
     "data": {
      "text/plain": [
       "array(['10^3/μl', 'μg/dl', '/cmm', '10^3/μi', 'mmol/l', 'u/l', 'thou/mm3',\n",
       "       'cells/cumm', 'cells/cu.mm', '10^9/l', 'meq/l', 'thou/μl', 'ng/dl',\n",
       "       '10^3/ul', 'μiu/ml', 'pmol/l', '/cumm', 'ng/ml', 'ug/dl', '103/μl',\n",
       "       'iu/l', 'cells/μl'], dtype=object)"
      ]
     },
     "execution_count": 12,
     "metadata": {},
     "output_type": "execute_result"
    }
   ],
   "source": [
    "test_data['unit'].unique()"
   ]
  },
  {
   "cell_type": "code",
   "execution_count": 14,
   "metadata": {},
   "outputs": [],
   "source": [
    "# Cleaning the train data\n",
    "for i in range(10000):\n",
    "    u = train_data['unit'][i]\n",
    "    if (u in ['10^3/μi', '10^3/&micro;i', 'x 10³ / µl', '10^3/ul', '103/μl']): train_data['unit'][i]='10^3/μl'\n",
    "    elif (u in ['cells/cum', 'cells/cu.mm', '/cmm', 'cells', '/cumm', 'cells/cumm']): train_data['unit'][i]='cells/μl'\n",
    "    elif (u in ['ng/dl', 'ug/dl', '&micro;g/dl', 'µg/dl']): train_data['unit'][i]='μg/dl'\n",
    "    elif (u in ['iu', 'iu/l']): train_data['unit'][i]='u/l'\n",
    "    elif (u in ['thou/mm3']): train_data['unit'][i]='thou/μl'\n",
    "    elif (u in ['meq/l']): train_data['unit'][i]='mmol/l'\n",
    "        \n",
    "# Conversion\n",
    "for i in range(10000):\n",
    "    u = train_data['unit'][i]\n",
    "    if(u == 'μiu/ml'):\n",
    "        train_data['parameter_value'][i] *= pow(10,-3)\n",
    "        train_data['reference_high'][i] *= pow(10,-3)\n",
    "        train_data['reference_low'][i] *= pow(10,-3)\n",
    "        train_data['unit'][i]='u/l'\n",
    "    elif(u == 'nmol/l'):\n",
    "        train_data['parameter_value'][i] *= pow(10,-6)\n",
    "        train_data['reference_high'][i] *= pow(10,-6)\n",
    "        train_data['reference_low'][i] *= pow(10,-6)\n",
    "        train_data['unit'][i]='mmol/l'\n",
    "    elif(u == 'pg/ml'):\n",
    "        train_data['parameter_value'][i] *= pow(10,-4)\n",
    "        train_data['reference_high'][i] *= pow(10,-4)\n",
    "        train_data['reference_low'][i] *= pow(10,-4)\n",
    "        train_data['unit'][i]='μg/dl'\n",
    "    elif(u == 'g/l'):\n",
    "        train_data['parameter_value'][i] *= pow(10,5)\n",
    "        train_data['reference_high'][i] *= pow(10,5)\n",
    "        train_data['reference_low'][i] *= pow(10,5)\n",
    "        train_data['unit'][i]='μg/dl'\n",
    "    elif(u == 'cells/hpf'):\n",
    "        train_data['parameter_value'][i] *= (1/0.45)\n",
    "        train_data['reference_high'][i] *= (1/0.45)\n",
    "        train_data['reference_low'][i] *= (1/0.45)\n",
    "        train_data['unit'][i]='cells/μl'\n",
    "    elif(u in ['thou/μl', '10^3/μl']):\n",
    "        train_data['parameter_value'][i] *= pow(10,3)\n",
    "        train_data['reference_high'][i] *= pow(10,3)\n",
    "        train_data['reference_low'][i] *= pow(10,3)\n",
    "        train_data['unit'][i]='cells/μl'"
   ]
  },
  {
   "cell_type": "code",
   "execution_count": 16,
   "metadata": {},
   "outputs": [],
   "source": [
    "# Cleaning the train data\n",
    "for i in range(10000):\n",
    "    u = test_data['unit'][i]\n",
    "    if (u in ['10^3/μi', '10^3/&micro;i', 'x 10³ / µl', '10^3/ul', '103/μl']): test_data['unit'][i]='10^3/μl'\n",
    "    elif (u in ['cells/cum', 'cells/cu.mm', '/cmm', 'cells', '/cumm', 'cells/cumm']): test_data['unit'][i]='cells/μl'\n",
    "    elif (u in ['ng/dl', 'ug/dl', '&micro;g/dl', 'µg/dl']): test_data['unit'][i]='μg/dl'\n",
    "    elif (u in ['iu', 'iu/l']): test_data['unit'][i]='u/l'\n",
    "    elif (u in ['thou/mm3']): test_data['unit'][i]='thou/μl'\n",
    "    elif (u in ['meq/l']): test_data['unit'][i]='mmol/l'\n",
    "        \n",
    "# Conversion\n",
    "for i in range(10000):\n",
    "    u = test_data['unit'][i]\n",
    "    if(u == 'μiu/ml'):\n",
    "        test_data['parameter_value'][i] *= pow(10,-3)\n",
    "        test_data['reference_high'][i] *= pow(10,-3)\n",
    "        test_data['reference_low'][i] *= pow(10,-3)\n",
    "        test_data['unit'][i]='u/l'\n",
    "    elif(u == 'nmol/l'):\n",
    "        test_data['parameter_value'][i] *= pow(10,-6)\n",
    "        test_data['reference_high'][i] *= pow(10,-6)\n",
    "        test_data['reference_low'][i] *= pow(10,-6)\n",
    "        test_data['unit'][i]='mmol/l'\n",
    "    elif(u == 'pmol/l'):\n",
    "        test_data['parameter_value'][i] *= pow(10,-9)\n",
    "        test_data['reference_high'][i] *= pow(10,-9)\n",
    "        test_data['reference_low'][i] *= pow(10,-9)\n",
    "        test_data['unit'][i]='mmol/l'\n",
    "    elif(u == 'pg/ml'):\n",
    "        test_data['parameter_value'][i] *= pow(10,-4)\n",
    "        test_data['reference_high'][i] *= pow(10,-4)\n",
    "        test_data['reference_low'][i] *= pow(10,-4)\n",
    "        test_data['unit'][i]='μg/dl'\n",
    "    elif(u == 'ng/ml'):\n",
    "        test_data['parameter_value'][i] *= pow(10,1)\n",
    "        test_data['reference_high'][i] *= pow(10,1)\n",
    "        test_data['reference_low'][i] *= pow(10,1)\n",
    "        test_data['unit'][i]='μg/dl'\n",
    "    elif(u == '10^9/l'):\n",
    "        test_data['parameter_value'][i] *= pow(10,3)\n",
    "        test_data['reference_high'][i] *= pow(10,3)\n",
    "        test_data['reference_low'][i] *= pow(10,3)\n",
    "        test_data['unit'][i]='cells/μl'\n",
    "    elif(u == 'g/l'):\n",
    "        test_data['parameter_value'][i] *= pow(10,5)\n",
    "        test_data['reference_high'][i] *= pow(10,5)\n",
    "        test_data['reference_low'][i] *= pow(10,5)\n",
    "        test_data['unit'][i]='μg/dl'\n",
    "    elif(u == 'cells/hpf'):\n",
    "        test_data['parameter_value'][i] *= (1/0.45)\n",
    "        test_data['reference_high'][i] *= (1/0.45)\n",
    "        test_data['reference_low'][i] *= (1/0.45)\n",
    "        test_data['unit'][i]='cells/μl'\n",
    "    elif(u in ['thou/μl', '10^3/μl']):\n",
    "        test_data['parameter_value'][i] *= pow(10,3)\n",
    "        test_data['reference_high'][i] *= pow(10,3)\n",
    "        test_data['reference_low'][i] *= pow(10,3)\n",
    "        test_data['unit'][i]='cells/μl'"
   ]
  },
  {
   "cell_type": "code",
   "execution_count": 17,
   "metadata": {},
   "outputs": [
    {
     "data": {
      "text/html": [
       "<div>\n",
       "<style scoped>\n",
       "    .dataframe tbody tr th:only-of-type {\n",
       "        vertical-align: middle;\n",
       "    }\n",
       "\n",
       "    .dataframe tbody tr th {\n",
       "        vertical-align: top;\n",
       "    }\n",
       "\n",
       "    .dataframe thead th {\n",
       "        text-align: right;\n",
       "    }\n",
       "</style>\n",
       "<table border=\"1\" class=\"dataframe\">\n",
       "  <thead>\n",
       "    <tr style=\"text-align: right;\">\n",
       "      <th></th>\n",
       "      <th>patient_id</th>\n",
       "      <th>standard_lab_parameter_name</th>\n",
       "      <th>parameter_value</th>\n",
       "      <th>created_at</th>\n",
       "      <th>reference_high</th>\n",
       "      <th>reference_low</th>\n",
       "      <th>age_group</th>\n",
       "      <th>gender</th>\n",
       "    </tr>\n",
       "    <tr>\n",
       "      <th>unit</th>\n",
       "      <th></th>\n",
       "      <th></th>\n",
       "      <th></th>\n",
       "      <th></th>\n",
       "      <th></th>\n",
       "      <th></th>\n",
       "      <th></th>\n",
       "      <th></th>\n",
       "    </tr>\n",
       "  </thead>\n",
       "  <tbody>\n",
       "    <tr>\n",
       "      <th>cells/μl</th>\n",
       "      <td>3567</td>\n",
       "      <td>3567</td>\n",
       "      <td>3567</td>\n",
       "      <td>3567</td>\n",
       "      <td>3567</td>\n",
       "      <td>3567</td>\n",
       "      <td>3567</td>\n",
       "      <td>3567</td>\n",
       "    </tr>\n",
       "    <tr>\n",
       "      <th>mmol/l</th>\n",
       "      <td>2452</td>\n",
       "      <td>2452</td>\n",
       "      <td>2452</td>\n",
       "      <td>2452</td>\n",
       "      <td>2452</td>\n",
       "      <td>2452</td>\n",
       "      <td>2452</td>\n",
       "      <td>2452</td>\n",
       "    </tr>\n",
       "    <tr>\n",
       "      <th>u/l</th>\n",
       "      <td>1184</td>\n",
       "      <td>1184</td>\n",
       "      <td>1184</td>\n",
       "      <td>1184</td>\n",
       "      <td>1184</td>\n",
       "      <td>1184</td>\n",
       "      <td>1184</td>\n",
       "      <td>1184</td>\n",
       "    </tr>\n",
       "    <tr>\n",
       "      <th>μg/dl</th>\n",
       "      <td>2797</td>\n",
       "      <td>2797</td>\n",
       "      <td>2797</td>\n",
       "      <td>2797</td>\n",
       "      <td>2797</td>\n",
       "      <td>2797</td>\n",
       "      <td>2797</td>\n",
       "      <td>2797</td>\n",
       "    </tr>\n",
       "  </tbody>\n",
       "</table>\n",
       "</div>"
      ],
      "text/plain": [
       "          patient_id  standard_lab_parameter_name  parameter_value  \\\n",
       "unit                                                                 \n",
       "cells/μl        3567                         3567             3567   \n",
       "mmol/l          2452                         2452             2452   \n",
       "u/l             1184                         1184             1184   \n",
       "μg/dl           2797                         2797             2797   \n",
       "\n",
       "          created_at  reference_high  reference_low  age_group  gender  \n",
       "unit                                                                    \n",
       "cells/μl        3567            3567           3567       3567    3567  \n",
       "mmol/l          2452            2452           2452       2452    2452  \n",
       "u/l             1184            1184           1184       1184    1184  \n",
       "μg/dl           2797            2797           2797       2797    2797  "
      ]
     },
     "execution_count": 17,
     "metadata": {},
     "output_type": "execute_result"
    }
   ],
   "source": [
    "train_data.groupby(['unit']).count()"
   ]
  },
  {
   "cell_type": "code",
   "execution_count": 18,
   "metadata": {},
   "outputs": [
    {
     "data": {
      "text/html": [
       "<div>\n",
       "<style scoped>\n",
       "    .dataframe tbody tr th:only-of-type {\n",
       "        vertical-align: middle;\n",
       "    }\n",
       "\n",
       "    .dataframe tbody tr th {\n",
       "        vertical-align: top;\n",
       "    }\n",
       "\n",
       "    .dataframe thead th {\n",
       "        text-align: right;\n",
       "    }\n",
       "</style>\n",
       "<table border=\"1\" class=\"dataframe\">\n",
       "  <thead>\n",
       "    <tr style=\"text-align: right;\">\n",
       "      <th></th>\n",
       "      <th>Unnamed: 0</th>\n",
       "      <th>patient_id</th>\n",
       "      <th>standard_lab_parameter_name</th>\n",
       "      <th>parameter_value</th>\n",
       "      <th>created_at</th>\n",
       "      <th>reference_high</th>\n",
       "      <th>reference_low</th>\n",
       "      <th>age_group</th>\n",
       "    </tr>\n",
       "    <tr>\n",
       "      <th>unit</th>\n",
       "      <th></th>\n",
       "      <th></th>\n",
       "      <th></th>\n",
       "      <th></th>\n",
       "      <th></th>\n",
       "      <th></th>\n",
       "      <th></th>\n",
       "      <th></th>\n",
       "    </tr>\n",
       "  </thead>\n",
       "  <tbody>\n",
       "    <tr>\n",
       "      <th>cells/μl</th>\n",
       "      <td>3580</td>\n",
       "      <td>3580</td>\n",
       "      <td>3580</td>\n",
       "      <td>3580</td>\n",
       "      <td>3580</td>\n",
       "      <td>3580</td>\n",
       "      <td>3580</td>\n",
       "      <td>3580</td>\n",
       "    </tr>\n",
       "    <tr>\n",
       "      <th>mmol/l</th>\n",
       "      <td>2473</td>\n",
       "      <td>2473</td>\n",
       "      <td>2473</td>\n",
       "      <td>2473</td>\n",
       "      <td>2473</td>\n",
       "      <td>2473</td>\n",
       "      <td>2473</td>\n",
       "      <td>2473</td>\n",
       "    </tr>\n",
       "    <tr>\n",
       "      <th>u/l</th>\n",
       "      <td>1464</td>\n",
       "      <td>1464</td>\n",
       "      <td>1464</td>\n",
       "      <td>1464</td>\n",
       "      <td>1464</td>\n",
       "      <td>1464</td>\n",
       "      <td>1464</td>\n",
       "      <td>1464</td>\n",
       "    </tr>\n",
       "    <tr>\n",
       "      <th>μg/dl</th>\n",
       "      <td>2483</td>\n",
       "      <td>2483</td>\n",
       "      <td>2483</td>\n",
       "      <td>2483</td>\n",
       "      <td>2483</td>\n",
       "      <td>2483</td>\n",
       "      <td>2483</td>\n",
       "      <td>2483</td>\n",
       "    </tr>\n",
       "  </tbody>\n",
       "</table>\n",
       "</div>"
      ],
      "text/plain": [
       "          Unnamed: 0  patient_id  standard_lab_parameter_name  \\\n",
       "unit                                                            \n",
       "cells/μl        3580        3580                         3580   \n",
       "mmol/l          2473        2473                         2473   \n",
       "u/l             1464        1464                         1464   \n",
       "μg/dl           2483        2483                         2483   \n",
       "\n",
       "          parameter_value  created_at  reference_high  reference_low  \\\n",
       "unit                                                                   \n",
       "cells/μl             3580        3580            3580           3580   \n",
       "mmol/l               2473        2473            2473           2473   \n",
       "u/l                  1464        1464            1464           1464   \n",
       "μg/dl                2483        2483            2483           2483   \n",
       "\n",
       "          age_group  \n",
       "unit                 \n",
       "cells/μl       3580  \n",
       "mmol/l         2473  \n",
       "u/l            1464  \n",
       "μg/dl          2483  "
      ]
     },
     "execution_count": 18,
     "metadata": {},
     "output_type": "execute_result"
    }
   ],
   "source": [
    "test_data.groupby(['unit']).count()"
   ]
  },
  {
   "cell_type": "code",
   "execution_count": 19,
   "metadata": {},
   "outputs": [
    {
     "data": {
      "text/plain": [
       "array(['adult', 'old', 'child', 'teen'], dtype=object)"
      ]
     },
     "execution_count": 19,
     "metadata": {},
     "output_type": "execute_result"
    }
   ],
   "source": [
    "test_data['age_group'].unique()"
   ]
  },
  {
   "cell_type": "code",
   "execution_count": 20,
   "metadata": {},
   "outputs": [
    {
     "data": {
      "text/plain": [
       "array(['old', 'adult', 'teen', 'child'], dtype=object)"
      ]
     },
     "execution_count": 20,
     "metadata": {},
     "output_type": "execute_result"
    }
   ],
   "source": [
    "train_data['age_group'].unique()"
   ]
  },
  {
   "cell_type": "code",
   "execution_count": 21,
   "metadata": {
    "scrolled": false
   },
   "outputs": [
    {
     "data": {
      "text/plain": [
       "array(['male', 'female', 'Female', 'mAle'], dtype=object)"
      ]
     },
     "execution_count": 21,
     "metadata": {},
     "output_type": "execute_result"
    }
   ],
   "source": [
    "train_data['gender'].unique()"
   ]
  },
  {
   "cell_type": "code",
   "execution_count": 22,
   "metadata": {
    "scrolled": true
   },
   "outputs": [
    {
     "data": {
      "text/plain": [
       "array(['male', 'female'], dtype=object)"
      ]
     },
     "execution_count": 22,
     "metadata": {},
     "output_type": "execute_result"
    }
   ],
   "source": [
    "train_data['gender'] = train_data['gender'].str.lower()\n",
    "train_data['gender'].unique()"
   ]
  },
  {
   "cell_type": "code",
   "execution_count": 23,
   "metadata": {},
   "outputs": [],
   "source": [
    "pd.set_option(\"display.max_rows\", None, \"display.max_columns\", None)\n",
    "#train_data"
   ]
  },
  {
   "cell_type": "code",
   "execution_count": 24,
   "metadata": {},
   "outputs": [],
   "source": [
    "#Deleting the redundant columns\n",
    "train_df = train_data.drop(columns=['patient_id', 'created_at'])\n",
    "test_df = test_data.drop(\"Unnamed: 0\",axis=1)\n",
    "test_df = test_df.drop(columns=['patient_id', 'created_at'])\n",
    "#test_df"
   ]
  },
  {
   "cell_type": "code",
   "execution_count": 25,
   "metadata": {
    "scrolled": true
   },
   "outputs": [],
   "source": [
    "#Preparing the dataset for training and testing\n",
    "X_train = train_df.iloc[:,:-1].values\n",
    "X_test = test_df.iloc[:,:].values\n",
    "y_train = train_df.iloc[:,-1:].values\n",
    "\n",
    "#Encoding the categorical variables\n",
    "from sklearn.preprocessing import LabelEncoder, OneHotEncoder\n",
    "from sklearn.compose import ColumnTransformer\n",
    "labelEncoder_y = LabelEncoder()\n",
    "y_train = labelEncoder_y.fit_transform(np.ravel(y_train))\n",
    "columnTransformerX = ColumnTransformer([('encoder', OneHotEncoder(), [0, 2, 5])], remainder = 'passthrough')\n",
    "# columnTransformerX2 = ColumnTransformer([('encoder', OneHotEncoder(), [0, 2, 5])], remainder = 'passthrough')\n",
    "X_train = columnTransformerX.fit_transform(X_train)\n",
    "X_test = columnTransformerX.transform(X_test)"
   ]
  },
  {
   "cell_type": "code",
   "execution_count": 26,
   "metadata": {
    "scrolled": false
   },
   "outputs": [],
   "source": [
    "#Random Forest Classifier\n",
    "from sklearn.ensemble import RandomForestClassifier \n",
    "classifier = RandomForestClassifier()\n",
    "classifier.fit(X_train, y_train)\n",
    "\n",
    "y_pred = classifier.predict(X_test)"
   ]
  },
  {
   "cell_type": "code",
   "execution_count": 27,
   "metadata": {},
   "outputs": [],
   "source": [
    "#Mapping predicted class to respective gender\n",
    "y_p = ['']*10000\n",
    "\n",
    "for i in range(10000):\n",
    "    if (y_pred[i]==0) : y_p[i]='female'\n",
    "    else : y_p[i]='male'\n",
    "        \n",
    "y_p = pd.DataFrame(data = y_p, columns = ['gender'])\n",
    "#Appending predicted gender column to the test data\n",
    "test_df = pd.concat([test_df, y_p], axis=1)"
   ]
  },
  {
   "cell_type": "code",
   "execution_count": 28,
   "metadata": {},
   "outputs": [],
   "source": [
    "#Chlorides comparison for different age groups\n",
    "chloride_df_train = train_df.query(\"standard_lab_parameter_name=='Chloride' and unit=='mmol/l'\")\n",
    "chloride_df_test = test_df.query(\"standard_lab_parameter_name=='Chloride' and unit=='mmol/l'\")\n",
    "chloride_df = pd.concat([chloride_df_train, chloride_df_test], axis=0)\n",
    "chloride_df = chloride_df.drop([164]) #this row was dropped as it was an outlier\n",
    "#chloride_df"
   ]
  },
  {
   "cell_type": "code",
   "execution_count": 29,
   "metadata": {},
   "outputs": [
    {
     "data": {
      "text/html": [
       "<div>\n",
       "<style scoped>\n",
       "    .dataframe tbody tr th:only-of-type {\n",
       "        vertical-align: middle;\n",
       "    }\n",
       "\n",
       "    .dataframe tbody tr th {\n",
       "        vertical-align: top;\n",
       "    }\n",
       "\n",
       "    .dataframe thead th {\n",
       "        text-align: right;\n",
       "    }\n",
       "</style>\n",
       "<table border=\"1\" class=\"dataframe\">\n",
       "  <thead>\n",
       "    <tr style=\"text-align: right;\">\n",
       "      <th></th>\n",
       "      <th>parameter_value</th>\n",
       "      <th>reference_high</th>\n",
       "      <th>reference_low</th>\n",
       "    </tr>\n",
       "    <tr>\n",
       "      <th>age_group</th>\n",
       "      <th></th>\n",
       "      <th></th>\n",
       "      <th></th>\n",
       "    </tr>\n",
       "  </thead>\n",
       "  <tbody>\n",
       "    <tr>\n",
       "      <th>adult</th>\n",
       "      <td>103.069596</td>\n",
       "      <td>108.385306</td>\n",
       "      <td>97.938867</td>\n",
       "    </tr>\n",
       "    <tr>\n",
       "      <th>child</th>\n",
       "      <td>102.995238</td>\n",
       "      <td>107.476190</td>\n",
       "      <td>98.571429</td>\n",
       "    </tr>\n",
       "    <tr>\n",
       "      <th>old</th>\n",
       "      <td>102.256279</td>\n",
       "      <td>107.636684</td>\n",
       "      <td>98.382716</td>\n",
       "    </tr>\n",
       "    <tr>\n",
       "      <th>teen</th>\n",
       "      <td>101.090476</td>\n",
       "      <td>107.476190</td>\n",
       "      <td>98.238095</td>\n",
       "    </tr>\n",
       "  </tbody>\n",
       "</table>\n",
       "</div>"
      ],
      "text/plain": [
       "           parameter_value  reference_high  reference_low\n",
       "age_group                                                \n",
       "adult           103.069596      108.385306      97.938867\n",
       "child           102.995238      107.476190      98.571429\n",
       "old             102.256279      107.636684      98.382716\n",
       "teen            101.090476      107.476190      98.238095"
      ]
     },
     "execution_count": 29,
     "metadata": {},
     "output_type": "execute_result"
    }
   ],
   "source": [
    "chloride_df.groupby(['age_group']).mean()"
   ]
  },
  {
   "cell_type": "code",
   "execution_count": 30,
   "metadata": {
    "scrolled": false
   },
   "outputs": [
    {
     "data": {
      "image/png": "[encoded data removed]",
      "text/plain": [
       "<Figure size 720x720 with 1 Axes>"
      ]
     },
     "metadata": {
      "needs_background": "light"
     },
     "output_type": "display_data"
    }
   ],
   "source": [
    "#Plotting the graph\n",
    "plt.figure(figsize=(10,10))\n",
    "plt.scatter(chloride_df['age_group'], chloride_df['parameter_value'], c='r', cmap='viridis' )\n",
    "plt.xlabel(\"Different Age Group\")\n",
    "plt.ylabel(\"mmols/l\")\n",
    "plt.title(\"Chloride comparison of differnt age groups\")\n",
    "plt.show()"
   ]
  }
 ],
 "metadata": {
  "kernelspec": {
   "display_name": "Python 3",
   "language": "python",
   "name": "python3"
  },
  "language_info": {
   "codemirror_mode": {
    "name": "ipython",
    "version": 3
   },
   "file_extension": ".py",
   "mimetype": "text/x-python",
   "name": "python",
   "nbconvert_exporter": "python",
   "pygments_lexer": "ipython3",
   "version": "3.8.5"
  }
 },
 "nbformat": 4,
 "nbformat_minor": 4
}
